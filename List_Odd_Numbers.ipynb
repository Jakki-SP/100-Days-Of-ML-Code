{
  "nbformat": 4,
  "nbformat_minor": 0,
  "metadata": {
    "colab": {
      "provenance": [],
      "collapsed_sections": [],
      "authorship_tag": "ABX9TyNWun2LgE88CHiHNP+IvWtU",
      "include_colab_link": true
    },
    "kernelspec": {
      "name": "python3",
      "display_name": "Python 3"
    },
    "language_info": {
      "name": "python"
    }
  },
  "cells": [
    {
      "cell_type": "markdown",
      "metadata": {
        "id": "view-in-github",
        "colab_type": "text"
      },
      "source": [
        "<a href=\"https://colab.research.google.com/github/Jakki-SP/100-Days-Of-ML-Code/blob/master/List_Odd_Numbers.ipynb\" target=\"_parent\"><img src=\"https://colab.research.google.com/assets/colab-badge.svg\" alt=\"Open In Colab\"/></a>"
      ]
    },
    {
      "cell_type": "markdown",
      "source": [
        "**Create a list of all odd numbers between 1 and a max number. Max number is something you need to take from a user using input() function**"
      ],
      "metadata": {
        "id": "P2ncuxQgVSNF"
      }
    },
    {
      "cell_type": "code",
      "execution_count": 8,
      "metadata": {
        "colab": {
          "base_uri": "https://localhost:8080/"
        },
        "id": "DTMAE2-cVOXw",
        "outputId": "8e3f8e8b-31bc-4be6-e103-188d0d71b78b"
      },
      "outputs": [
        {
          "name": "stdout",
          "output_type": "stream",
          "text": [
            "Enter max number =15\n"
          ]
        }
      ],
      "source": [
        "max_number = int(input(\"Enter max number =\"))"
      ]
    },
    {
      "cell_type": "code",
      "source": [
        "odd_numbers = []\n",
        "i = 1\n",
        "while i<max_number:\n",
        "  if(i%2 != 0):\n",
        "    odd_numbers.append(i)\n",
        "  i += 1\n",
        "print(odd_numbers)"
      ],
      "metadata": {
        "colab": {
          "base_uri": "https://localhost:8080/"
        },
        "id": "aqbsEDJ0Vsgh",
        "outputId": "51fa72e5-ac88-44d2-a28f-c30d35b79661"
      },
      "execution_count": 9,
      "outputs": [
        {
          "output_type": "stream",
          "name": "stdout",
          "text": [
            "[1, 3, 5, 7, 9, 11, 13]\n"
          ]
        }
      ]
    },
    {
      "cell_type": "code",
      "source": [
        "# another way\n",
        "odd_numbers = []\n",
        "for i in range(1,max_number):\n",
        "  if(i%2 == 1):\n",
        "    odd_numbers.append(i)\n",
        "print(odd_numbers)"
      ],
      "metadata": {
        "colab": {
          "base_uri": "https://localhost:8080/"
        },
        "id": "NMTDJJPhWuWg",
        "outputId": "4a6b79ad-dd84-44e2-9bdf-d3e9e506a124"
      },
      "execution_count": 10,
      "outputs": [
        {
          "output_type": "stream",
          "name": "stdout",
          "text": [
            "[1, 3, 5, 7, 9, 11, 13]\n"
          ]
        }
      ]
    }
  ]
}